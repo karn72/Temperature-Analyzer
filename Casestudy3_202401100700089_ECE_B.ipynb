{
  "nbformat": 4,
  "nbformat_minor": 0,
  "metadata": {
    "colab": {
      "provenance": [],
      "authorship_tag": "ABX9TyMDFIoy1eKQqkdnsgiSiHTN",
      "include_colab_link": true
    },
    "kernelspec": {
      "name": "python3",
      "display_name": "Python 3"
    },
    "language_info": {
      "name": "python"
    }
  },
  "cells": [
    {
      "cell_type": "markdown",
      "metadata": {
        "id": "view-in-github",
        "colab_type": "text"
      },
      "source": [
        "<a href=\"https://colab.research.google.com/github/karn72/Temperature-Analyzer/blob/main/Casestudy3_202401100700089_ECE_B.ipynb\" target=\"_parent\"><img src=\"https://colab.research.google.com/assets/colab-badge.svg\" alt=\"Open In Colab\"/></a>"
      ]
    },
    {
      "cell_type": "code",
      "execution_count": 1,
      "metadata": {
        "colab": {
          "base_uri": "https://localhost:8080/",
          "height": 0
        },
        "id": "qVV-EE6A-65C",
        "outputId": "a787e22b-02e6-45bf-d3c2-79ce8af86534"
      },
      "outputs": [
        {
          "output_type": "stream",
          "name": "stdout",
          "text": [
            "Enter lower temperature limit: 50\n",
            "Enter upper temperature limit: 100\n",
            "Machine is running\n",
            "\n",
            "Temperature is too low for the machine to work\n",
            "\n",
            "Press q to stop the machine or press enter to continue: q\n",
            "Machine stopped\n"
          ]
        }
      ],
      "source": [
        "# Develop a function to monitor temperature and provide alert.\n",
        "\n",
        "import random\n",
        "\n",
        "def Alert(lower,upper):\n",
        "\n",
        "  while(1):\n",
        "    print(\"Machine is running\\n\")\n",
        "    temp = random.randint(lower,upper)\n",
        "    if temp > 500:\n",
        "      print(\"Temperature is very high for the machine to work\\n\")\n",
        "    elif temp < 100:\n",
        "      print(\"Temperature is too low for the machine to work\\n\")\n",
        "    else:\n",
        "      print(\"Temperature is in normal range\\n\")\n",
        "    choice  = input(\"Press q to stop the machine or press enter to continue: \")\n",
        "    if choice == \"q\":\n",
        "      print(\"Machine stopped\")\n",
        "      break\n",
        "\n",
        "low = int(input(\"Enter lower temperature limit: \"))\n",
        "high = int(input(\"Enter upper temperature limit: \"))\n",
        "Alert(low,high)"
      ]
    }
  ]
}